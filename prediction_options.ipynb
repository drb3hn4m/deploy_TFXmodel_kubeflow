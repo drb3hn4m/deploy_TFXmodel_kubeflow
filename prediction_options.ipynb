{
 "cells": [
  {
   "cell_type": "code",
   "execution_count": 9,
   "id": "5706a854-12f9-4a2b-90c5-3c1803470e48",
   "metadata": {
    "tags": []
   },
   "outputs": [],
   "source": [
    "import os\n",
    "import numpy as np\n",
    "from google.cloud import aiplatform\n",
    "from google.cloud.aiplatform import pipeline_jobs"
   ]
  },
  {
   "cell_type": "code",
   "execution_count": 11,
   "id": "61bf6ab2-f363-4a43-9128-63387cea4f4e",
   "metadata": {
    "tags": []
   },
   "outputs": [],
   "source": [
    "GOOGLE_CLOUD_REGION='australia-southeast1'\n",
    "ENDPOINT_NAME='prediction-penguin-vertex-pipelines'\n",
    "GOOGLE_CLOUD_PROJECT='som-k8s'"
   ]
  },
  {
   "cell_type": "code",
   "execution_count": 12,
   "id": "bd83744e-3583-4900-8a75-91fa6f99185d",
   "metadata": {
    "tags": []
   },
   "outputs": [],
   "source": [
    "os.environ['REGION']=GOOGLE_CLOUD_REGION\n",
    "os.environ['ENDPOINT_NAME']=ENDPOINT_NAME"
   ]
  },
  {
   "cell_type": "markdown",
   "id": "33d7504c",
   "metadata": {},
   "source": [
    "create a dummy datapoint"
   ]
  },
  {
   "cell_type": "code",
   "execution_count": null,
   "id": "7fbb70ec",
   "metadata": {},
   "outputs": [],
   "source": [
    "%%writefile example_input.json\n",
    "{\"instances\": [\n",
    "  {\"culmen_length_mm\":[0.71],\"culmen_depth_mm\":[0.38],\"flipper_length_mm\":[0.98],\"body_mass_g\":[0.78]},\n",
    "  {\"culmen_length_mm\":[0.22],\"culmen_depth_mm\":[0.18],\"flipper_length_mm\":[0.18],\"body_mass_g\":[0.38]}\n",
    "]}\n"
   ]
  },
  {
   "cell_type": "markdown",
   "id": "ecd10f62-f83a-48af-ae9d-0bc2eb4a9b53",
   "metadata": {},
   "source": [
    "make predicitons using glcoud ai utility"
   ]
  },
  {
   "cell_type": "code",
   "execution_count": 6,
   "id": "14efea47-5671-49d2-8128-980092f202d9",
   "metadata": {
    "tags": []
   },
   "outputs": [
    {
     "name": "stdout",
     "output_type": "stream",
     "text": [
      "australia-southeast1\n",
      "8081713929362866176\n",
      "[[-1.22456849, -2.00882196, 6.0371232], [0.718155444, -0.00462970138, 0.345121533]]\n"
     ]
    },
    {
     "name": "stderr",
     "output_type": "stream",
     "text": [
      "Using endpoint [https://australia-southeast1-aiplatform.googleapis.com/]\n",
      "Using endpoint [https://australia-southeast1-prediction-aiplatform.googleapis.com/]\n"
     ]
    }
   ],
   "source": [
    "%%bash\n",
    "echo $REGION\n",
    "ENDPOINT_ID=$(gcloud ai endpoints list --region=$REGION \\\n",
    "              --format='value(ENDPOINT_ID)' --filter=display_name=${ENDPOINT_NAME})\n",
    "echo $ENDPOINT_ID\n",
    "gcloud ai endpoints predict $ENDPOINT_ID --region=$REGION --json-request=example_input.json"
   ]
  },
  {
   "cell_type": "markdown",
   "id": "1ad7ee8d-b5e8-4a94-94c4-336c9a66c1d6",
   "metadata": {},
   "source": [
    "Make predicitons using curl request"
   ]
  },
  {
   "cell_type": "code",
   "execution_count": 7,
   "id": "ad35b18d-30c5-489d-a43b-c9758465f42f",
   "metadata": {
    "tags": []
   },
   "outputs": [
    {
     "name": "stdout",
     "output_type": "stream",
     "text": [
      "{\n",
      "  \"predictions\": [\n",
      "    [\n",
      "      -1.22456849,\n",
      "      -2.00882196,\n",
      "      6.0371232\n",
      "    ],\n",
      "    [\n",
      "      0.718155444,\n",
      "      -0.00462970138,\n",
      "      0.345121533\n",
      "    ]\n",
      "  ],\n",
      "  \"deployedModelId\": \"2151775041883209728\",\n",
      "  \"model\": \"projects/41931926481/locations/australia-southeast1/models/2261959301125898240\",\n",
      "  \"modelDisplayName\": \"v1718844611\",\n",
      "  \"modelVersionId\": \"1\"\n",
      "}\n"
     ]
    },
    {
     "name": "stderr",
     "output_type": "stream",
     "text": [
      "Using endpoint [https://australia-southeast1-aiplatform.googleapis.com/]\n",
      "  % Total    % Received % Xferd  Average Speed   Time    Time     Time  Current\n",
      "                                 Dload  Upload   Total   Spent    Left  Speed\n",
      "100   586    0   364  100   222   2510   1531 --:--:-- --:--:-- --:--:--  4041\n"
     ]
    }
   ],
   "source": [
    "%%bash\n",
    "PROJECT=$(gcloud config get-value project)\n",
    "ENDPOINT_ID=$(gcloud ai endpoints list --region=$REGION \\\n",
    "              --format='value(ENDPOINT_ID)' --filter=display_name=${ENDPOINT_NAME})\n",
    "\n",
    "curl -X POST \\\n",
    "  -H \"Authorization: Bearer \"$(gcloud auth application-default print-access-token) \\\n",
    "  -H \"Content-Type: application/json; charset=utf-8\" \\\n",
    "  -d @example_input.json \\\n",
    "  \"https://${REGION}-aiplatform.googleapis.com/v1/projects/${PROJECT}/locations/${REGION}/endpoints/${ENDPOINT_ID}:predict\""
   ]
  },
  {
   "cell_type": "markdown",
   "id": "2068adf2-aedc-4ed3-b940-027f38c66107",
   "metadata": {},
   "source": [
    "make prediciton with a python client"
   ]
  },
  {
   "cell_type": "code",
   "execution_count": 13,
   "id": "970c2383-d1a5-4825-b444-d53408a833c3",
   "metadata": {
    "tags": []
   },
   "outputs": [
    {
     "name": "stdout",
     "output_type": "stream",
     "text": [
      "The value of ENDPOINT_ID is: 8081713929362866176\n",
      "[-1.22456837, -2.00882196, 6.03712368]\n"
     ]
    }
   ],
   "source": [
    "# prgramattically find the endpoint id to use it for prediciton\n",
    "import subprocess\n",
    "\n",
    "result = subprocess.run(\n",
    "    [\n",
    "        \"bash\", \"-c\",\n",
    "        f\"ENDPOINT_ID=$(gcloud ai endpoints list --region={GOOGLE_CLOUD_REGION} --format='value(ENDPOINT_ID)' --filter=display_name={ENDPOINT_NAME}); echo $ENDPOINT_ID\"\n",
    "    ],\n",
    "    capture_output=True, text=True\n",
    ")\n",
    "\n",
    "ENDPOINT_ID = result.stdout.strip()\n",
    "print(f\"The value of ENDPOINT_ID is: {ENDPOINT_ID}\")\n",
    "\n",
    "# python client\n",
    "client_options = {\n",
    "    'api_endpoint': GOOGLE_CLOUD_REGION + '-aiplatform.googleapis.com'\n",
    "    }\n",
    "# Initialize client that will be used to create and send requests.\n",
    "client = aiplatform.gapic.PredictionServiceClient(client_options=client_options)\n",
    "\n",
    "# Set data values for the prediction request.\n",
    "# Our model expects 4 feature inputs and produces 3 output values for each\n",
    "# species. Note that the output is logit value rather than probabilities.\n",
    "# See the model code to understand input / output structure.\n",
    "instances = [{\n",
    "    'culmen_length_mm':[0.71],\n",
    "    'culmen_depth_mm':[0.38],\n",
    "    'flipper_length_mm':[0.98],\n",
    "    'body_mass_g': [0.78],\n",
    "}]\n",
    "\n",
    "endpoint = client.endpoint_path(\n",
    "    project=GOOGLE_CLOUD_PROJECT,\n",
    "    location=GOOGLE_CLOUD_REGION,\n",
    "    endpoint=ENDPOINT_ID,\n",
    ")\n",
    "# Send a prediction request and get response.\n",
    "response = client.predict(endpoint=endpoint, instances=instances)\n",
    "print(response.predictions[0])\n",
    "# Uses argmax to find the index of the maximum value."
   ]
  },
  {
   "cell_type": "code",
   "execution_count": null,
   "id": "07f0faa3-2e11-4732-b4d2-387d3bd91525",
   "metadata": {},
   "outputs": [],
   "source": []
  }
 ],
 "metadata": {
  "environment": {
   "kernel": "python3",
   "name": "tf2-cpu.2-11.m122",
   "type": "gcloud",
   "uri": "us-docker.pkg.dev/deeplearning-platform-release/gcr.io/tf2-cpu.2-11:m122"
  },
  "kernelspec": {
   "display_name": "Python 3 (Local)",
   "language": "python",
   "name": "python3"
  },
  "language_info": {
   "codemirror_mode": {
    "name": "ipython",
    "version": 3
   },
   "file_extension": ".py",
   "mimetype": "text/x-python",
   "name": "python",
   "nbconvert_exporter": "python",
   "pygments_lexer": "ipython3",
   "version": "3.10.14"
  }
 },
 "nbformat": 4,
 "nbformat_minor": 5
}
